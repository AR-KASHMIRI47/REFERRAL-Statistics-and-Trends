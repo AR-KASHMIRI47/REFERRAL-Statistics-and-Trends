{
 "cells": [
  {
   "cell_type": "markdown",
   "id": "e9ab831e",
   "metadata": {},
   "source": [
    "# Load and Explore the Dataset"
   ]
  },
  {
   "cell_type": "code",
   "execution_count": 7,
   "id": "0aa0214c",
   "metadata": {},
   "outputs": [
    {
     "name": "stdout",
     "output_type": "stream",
     "text": [
      "Data Overview:\n",
      "<class 'pandas.core.frame.DataFrame'>\n",
      "RangeIndex: 18841 entries, 0 to 18840\n",
      "Data columns (total 57 columns):\n",
      " #   Column                    Non-Null Count  Dtype  \n",
      "---  ------                    --------------  -----  \n",
      " 0   id                        18841 non-null  object \n",
      " 1   regionname                18841 non-null  object \n",
      " 2   countryname               18841 non-null  object \n",
      " 3   prodline                  18841 non-null  object \n",
      " 4   lendinginstr              18580 non-null  object \n",
      " 5   lendinginstrtype          18580 non-null  object \n",
      " 6   envassesmentcategorycode  12731 non-null  object \n",
      " 7   supplementprojectflg      18792 non-null  object \n",
      " 8   productlinetype           18841 non-null  object \n",
      " 9   projectstatusdisplay      18839 non-null  object \n",
      " 10  status                    18839 non-null  object \n",
      " 11  project_name              18841 non-null  object \n",
      " 12  boardapprovaldate         17172 non-null  object \n",
      " 13  board_approval_month      17172 non-null  object \n",
      " 14  closingdate               15296 non-null  object \n",
      " 15  lendprojectcost           18709 non-null  object \n",
      " 16  ibrdcommamt               18841 non-null  object \n",
      " 17  idacommamt                18841 non-null  object \n",
      " 18  totalamt                  18841 non-null  object \n",
      " 19  grantamt                  18841 non-null  object \n",
      " 20  borrower                  12472 non-null  object \n",
      " 21  impagency                 12288 non-null  object \n",
      " 22  url                       18841 non-null  object \n",
      " 23  projectdoc                0 non-null      float64\n",
      " 24  majorsector_percent       0 non-null      float64\n",
      " 25  sector1                   18841 non-null  object \n",
      " 26  sector2                   9810 non-null   object \n",
      " 27  sector3                   6672 non-null   object \n",
      " 28  sector4                   4480 non-null   object \n",
      " 29  sector5                   2770 non-null   object \n",
      " 30  sector                    18065 non-null  object \n",
      " 31  mjsector1                 0 non-null      float64\n",
      " 32  mjsector2                 0 non-null      float64\n",
      " 33  mjsector3                 0 non-null      float64\n",
      " 34  mjsector4                 0 non-null      float64\n",
      " 35  mjsector5                 0 non-null      float64\n",
      " 36  mjsector                  18065 non-null  object \n",
      " 37  theme1                    18841 non-null  object \n",
      " 38  theme2                    9883 non-null   object \n",
      " 39  theme3                    7508 non-null   object \n",
      " 40  theme4                    5247 non-null   object \n",
      " 41  theme5                    2935 non-null   object \n",
      " 42  theme                     0 non-null      float64\n",
      " 43  goal                      12188 non-null  object \n",
      " 44  financier                 7199 non-null   object \n",
      " 45  mjtheme1name              0 non-null      float64\n",
      " 46  mjtheme2name              0 non-null      float64\n",
      " 47  mjtheme3name              0 non-null      float64\n",
      " 48  mjtheme4name              0 non-null      float64\n",
      " 49  mjtheme5name              0 non-null      float64\n",
      " 50  location                  4569 non-null   object \n",
      " 51  GeoLocID                  4569 non-null   object \n",
      " 52  GeoLocName                4568 non-null   object \n",
      " 53  Latitude                  4569 non-null   object \n",
      " 54  Longitude                 4569 non-null   object \n",
      " 55  Country                   4451 non-null   object \n",
      " 56  Unnamed: 56               0 non-null      float64\n",
      "dtypes: float64(14), object(43)\n",
      "memory usage: 8.2+ MB\n",
      "None\n"
     ]
    }
   ],
   "source": [
    "import pandas as pd\n",
    "\n",
    "# Loading the dataset\n",
    "df = pd.read_csv(\"World Bank Projects & Operations\\projects-operations-csv-.csv\")\n",
    "\n",
    "# Displaying basic info\n",
    "print(\"Data Overview:\")\n",
    "print(df.info())\n"
   ]
  },
  {
   "cell_type": "code",
   "execution_count": 8,
   "id": "40aa0c89",
   "metadata": {},
   "outputs": [
    {
     "name": "stdout",
     "output_type": "stream",
     "text": [
      "\n",
      "Sample Data:\n",
      "        id                    regionname  \\\n",
      "0  P151169  Middle East and North Africa   \n",
      "1  P154943         East Asia and Pacific   \n",
      "2  P161382         East Asia and Pacific   \n",
      "3  P163922         East Asia and Pacific   \n",
      "4  P169279         East Asia and Pacific   \n",
      "\n",
      "                                         countryname prodline  \\\n",
      "0              Kingdom of Morocco;Kingdom of Morocco       PE   \n",
      "1                  Kingdom of Tonga;Kingdom of Tonga       PE   \n",
      "2  Republic of the Marshall Islands;Republic of t...       PE   \n",
      "3  Federated States of Micronesia;Federated State...       PE   \n",
      "4                                        Samoa;Samoa       PE   \n",
      "\n",
      "                   lendinginstr lendinginstrtype envassesmentcategorycode  \\\n",
      "0  Investment Project Financing               IN                        B   \n",
      "1  Investment Project Financing               IN                        C   \n",
      "2  Investment Project Financing               IN                        B   \n",
      "3  Investment Project Financing               IN                        B   \n",
      "4  Investment Project Financing               IN                      NaN   \n",
      "\n",
      "  supplementprojectflg productlinetype projectstatusdisplay  ... mjtheme3name  \\\n",
      "0                    N               L               Active  ...          NaN   \n",
      "1                    N               L               Active  ...          NaN   \n",
      "2                    N               L               Active  ...          NaN   \n",
      "3                    N               L               Active  ...          NaN   \n",
      "4                    Y               L               Active  ...          NaN   \n",
      "\n",
      "  mjtheme4name mjtheme5name location GeoLocID GeoLocName Latitude Longitude  \\\n",
      "0          NaN          NaN      NaN      NaN        NaN      NaN       NaN   \n",
      "1          NaN          NaN      NaN      NaN        NaN      NaN       NaN   \n",
      "2          NaN          NaN      NaN      NaN        NaN      NaN       NaN   \n",
      "3          NaN          NaN      NaN      NaN        NaN      NaN       NaN   \n",
      "4          NaN          NaN      NaN      NaN        NaN      NaN       NaN   \n",
      "\n",
      "  Country Unnamed: 56  \n",
      "0     NaN         NaN  \n",
      "1     NaN         NaN  \n",
      "2     NaN         NaN  \n",
      "3     NaN         NaN  \n",
      "4     NaN         NaN  \n",
      "\n",
      "[5 rows x 57 columns]\n"
     ]
    }
   ],
   "source": [
    "# Displaying the first few rows\n",
    "print(\"\\nSample Data:\")\n",
    "print(df.head())"
   ]
  },
  {
   "cell_type": "code",
   "execution_count": 9,
   "id": "018846d7",
   "metadata": {},
   "outputs": [
    {
     "data": {
      "text/plain": [
       "Index(['id', 'regionname', 'countryname', 'prodline', 'lendinginstr',\n",
       "       'lendinginstrtype', 'envassesmentcategorycode', 'supplementprojectflg',\n",
       "       'productlinetype', 'projectstatusdisplay', 'status', 'project_name',\n",
       "       'boardapprovaldate', 'board_approval_month', 'closingdate',\n",
       "       'lendprojectcost', 'ibrdcommamt', 'idacommamt', 'totalamt', 'grantamt',\n",
       "       'borrower', 'impagency', 'url', 'projectdoc ', 'majorsector_percent ',\n",
       "       'sector1', 'sector2', 'sector3', 'sector4', 'sector5', 'sector',\n",
       "       'mjsector1', 'mjsector2', 'mjsector3', 'mjsector4', 'mjsector5',\n",
       "       'mjsector', 'theme1', 'theme2', 'theme3', 'theme4', 'theme5', 'theme ',\n",
       "       'goal', 'financier', 'mjtheme1name', 'mjtheme2name', 'mjtheme3name',\n",
       "       'mjtheme4name', 'mjtheme5name', 'location', 'GeoLocID', 'GeoLocName',\n",
       "       'Latitude', 'Longitude', 'Country', 'Unnamed: 56'],\n",
       "      dtype='object')"
      ]
     },
     "execution_count": 9,
     "metadata": {},
     "output_type": "execute_result"
    }
   ],
   "source": [
    "# Displaying the columns\n",
    "df.columns"
   ]
  },
  {
   "cell_type": "markdown",
   "id": "fa978915",
   "metadata": {},
   "source": [
    "# Data Cleaning and Preparation"
   ]
  },
  {
   "cell_type": "code",
   "execution_count": 10,
   "id": "34a86780",
   "metadata": {},
   "outputs": [],
   "source": [
    "# Droping columns with excessive missing values (e.g., more than 50%)\n",
    "missing_percent = df.isnull().mean() * 100\n",
    "cols_to_drop = missing_percent[missing_percent > 50].index\n",
    "df_clean = df.drop(columns=cols_to_drop)"
   ]
  },
  {
   "cell_type": "code",
   "execution_count": 11,
   "id": "21c446ce",
   "metadata": {},
   "outputs": [],
   "source": [
    "# Droping rows with missing values in critical columns\n",
    "critical_cols = [\"countryname\", \"projectstatusdisplay\", \"lendprojectcost\"]\n",
    "df_clean = df_clean.dropna(subset=critical_cols)"
   ]
  },
  {
   "cell_type": "code",
   "execution_count": 12,
   "id": "99031629",
   "metadata": {},
   "outputs": [],
   "source": [
    "# Converting relevant columns to numeric\n",
    "df_clean[\"lendprojectcost\"] = pd.to_numeric(df_clean[\"lendprojectcost\"], errors='coerce')"
   ]
  },
  {
   "cell_type": "code",
   "execution_count": 13,
   "id": "2396386e",
   "metadata": {},
   "outputs": [],
   "source": [
    "# Converting dates\n",
    "df_clean[\"boardapprovaldate\"] = pd.to_datetime(df_clean[\"boardapprovaldate\"], errors='coerce')\n",
    "df_clean[\"closingdate\"] = pd.to_datetime(df_clean[\"closingdate\"], errors='coerce')"
   ]
  },
  {
   "cell_type": "code",
   "execution_count": 14,
   "id": "d2f26b1c",
   "metadata": {},
   "outputs": [],
   "source": [
    "# Extracting year from board approval date for analysis\n",
    "df_clean[\"approval_year\"] = df_clean[\"boardapprovaldate\"].dt.year"
   ]
  },
  {
   "cell_type": "code",
   "execution_count": 15,
   "id": "92eab5c1",
   "metadata": {},
   "outputs": [
    {
     "name": "stdout",
     "output_type": "stream",
     "text": [
      "\n",
      "Cleaned Data Info:\n",
      "<class 'pandas.core.frame.DataFrame'>\n",
      "Index: 18707 entries, 0 to 18840\n",
      "Data columns (total 31 columns):\n",
      " #   Column                    Non-Null Count  Dtype              \n",
      "---  ------                    --------------  -----              \n",
      " 0   id                        18707 non-null  object             \n",
      " 1   regionname                18707 non-null  object             \n",
      " 2   countryname               18707 non-null  object             \n",
      " 3   prodline                  18707 non-null  object             \n",
      " 4   lendinginstr              18448 non-null  object             \n",
      " 5   lendinginstrtype          18448 non-null  object             \n",
      " 6   envassesmentcategorycode  12614 non-null  object             \n",
      " 7   supplementprojectflg      18659 non-null  object             \n",
      " 8   productlinetype           18707 non-null  object             \n",
      " 9   projectstatusdisplay      18707 non-null  object             \n",
      " 10  status                    18707 non-null  object             \n",
      " 11  project_name              18707 non-null  object             \n",
      " 12  boardapprovaldate         17049 non-null  datetime64[ns, UTC]\n",
      " 13  board_approval_month      17049 non-null  object             \n",
      " 14  closingdate               15199 non-null  datetime64[ns, UTC]\n",
      " 15  lendprojectcost           160 non-null    float64            \n",
      " 16  ibrdcommamt               18707 non-null  object             \n",
      " 17  idacommamt                18707 non-null  object             \n",
      " 18  totalamt                  18707 non-null  object             \n",
      " 19  grantamt                  18707 non-null  object             \n",
      " 20  borrower                  12362 non-null  object             \n",
      " 21  impagency                 12174 non-null  object             \n",
      " 22  url                       18707 non-null  object             \n",
      " 23  sector1                   18707 non-null  object             \n",
      " 24  sector2                   9705 non-null   object             \n",
      " 25  sector                    17939 non-null  object             \n",
      " 26  mjsector                  17939 non-null  object             \n",
      " 27  theme1                    18707 non-null  object             \n",
      " 28  theme2                    9792 non-null   object             \n",
      " 29  goal                      12073 non-null  object             \n",
      " 30  approval_year             17049 non-null  float64            \n",
      "dtypes: datetime64[ns, UTC](2), float64(2), object(27)\n",
      "memory usage: 4.6+ MB\n",
      "None\n"
     ]
    }
   ],
   "source": [
    "print(\"\\nCleaned Data Info:\")\n",
    "print(df_clean.info())"
   ]
  },
  {
   "cell_type": "code",
   "execution_count": 16,
   "id": "8dcbd1a4",
   "metadata": {},
   "outputs": [
    {
     "data": {
      "text/plain": [
       "((18841, 57), (18707, 31))"
      ]
     },
     "execution_count": 16,
     "metadata": {},
     "output_type": "execute_result"
    }
   ],
   "source": [
    "df.shape , df_clean.shape\n",
    "# Displaying the cleaned data"
   ]
  }
 ],
 "metadata": {
  "kernelspec": {
   "display_name": "venv",
   "language": "python",
   "name": "python3"
  },
  "language_info": {
   "codemirror_mode": {
    "name": "ipython",
    "version": 3
   },
   "file_extension": ".py",
   "mimetype": "text/x-python",
   "name": "python",
   "nbconvert_exporter": "python",
   "pygments_lexer": "ipython3",
   "version": "3.10.11"
  }
 },
 "nbformat": 4,
 "nbformat_minor": 5
}
