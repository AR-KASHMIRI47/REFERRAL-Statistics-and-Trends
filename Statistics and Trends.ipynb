{
 "cells": [
  {
   "cell_type": "markdown",
   "id": "e9ab831e",
   "metadata": {},
   "source": [
    "# Load and Explore the Dataset"
   ]
  },
  {
   "cell_type": "code",
   "execution_count": null,
   "id": "0aa0214c",
   "metadata": {},
   "outputs": [],
   "source": [
    "import pandas as pd\n",
    "\n",
    "# Load the dataset\n",
    "df = pd.read_csv(\"path/to/world-bank-projects-operations.csv\")\n",
    "\n",
    "# Display basic info\n",
    "print(\"Data Overview:\")\n",
    "print(df.info())\n",
    "\n",
    "# Display the first few rows\n",
    "print(\"\\nSample Data:\")\n",
    "print(df.head())\n"
   ]
  }
 ],
 "metadata": {
  "kernelspec": {
   "display_name": "venv",
   "language": "python",
   "name": "python3"
  },
  "language_info": {
   "name": "python",
   "version": "3.10.11"
  }
 },
 "nbformat": 4,
 "nbformat_minor": 5
}
