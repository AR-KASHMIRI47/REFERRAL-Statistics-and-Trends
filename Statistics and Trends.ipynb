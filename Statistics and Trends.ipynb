{
 "cells": [
  {
   "cell_type": "markdown",
   "id": "4c79df6e",
   "metadata": {},
   "source": [
    "# Project Data Exploration Report\n",
    "## Student Information\n",
    "- Name: Your Full Name\n",
    "- Student Number: Your Student Number\n",
    "- GitHub Repository: https://github.com/yourusername/yourrepo"
   ]
  },
  {
   "cell_type": "markdown",
   "id": "e9ab831e",
   "metadata": {},
   "source": [
    "## Imports and Load Data"
   ]
  },
  {
   "cell_type": "code",
   "execution_count": 66,
   "id": "0aa0214c",
   "metadata": {},
   "outputs": [],
   "source": [
    "import pandas as pd\n",
    "import matplotlib.pyplot as plt\n",
    "import seaborn as sns\n",
    "import numpy as np\n",
    "\n",
    "file_path = 'World Bank Projects & Operations\\projects-operations-csv-.csv'\n",
    "df = pd.read_csv(file_path)\n"
   ]
  },
  {
   "cell_type": "markdown",
   "id": "bfbddcc8",
   "metadata": {},
   "source": [
    "## Initial Exploration"
   ]
  },
  {
   "cell_type": "code",
   "execution_count": 67,
   "id": "cf18ded2",
   "metadata": {},
   "outputs": [
    {
     "name": "stdout",
     "output_type": "stream",
     "text": [
      "Dataset Info:\n",
      "<class 'pandas.core.frame.DataFrame'>\n",
      "RangeIndex: 18841 entries, 0 to 18840\n",
      "Data columns (total 57 columns):\n",
      " #   Column                    Non-Null Count  Dtype  \n",
      "---  ------                    --------------  -----  \n",
      " 0   id                        18841 non-null  object \n",
      " 1   regionname                18841 non-null  object \n",
      " 2   countryname               18841 non-null  object \n",
      " 3   prodline                  18841 non-null  object \n",
      " 4   lendinginstr              18580 non-null  object \n",
      " 5   lendinginstrtype          18580 non-null  object \n",
      " 6   envassesmentcategorycode  12731 non-null  object \n",
      " 7   supplementprojectflg      18792 non-null  object \n",
      " 8   productlinetype           18841 non-null  object \n",
      " 9   projectstatusdisplay      18839 non-null  object \n",
      " 10  status                    18839 non-null  object \n",
      " 11  project_name              18841 non-null  object \n",
      " 12  boardapprovaldate         17172 non-null  object \n",
      " 13  board_approval_month      17172 non-null  object \n",
      " 14  closingdate               15296 non-null  object \n",
      " 15  lendprojectcost           18709 non-null  object \n",
      " 16  ibrdcommamt               18841 non-null  object \n",
      " 17  idacommamt                18841 non-null  object \n",
      " 18  totalamt                  18841 non-null  object \n",
      " 19  grantamt                  18841 non-null  object \n",
      " 20  borrower                  12472 non-null  object \n",
      " 21  impagency                 12288 non-null  object \n",
      " 22  url                       18841 non-null  object \n",
      " 23  projectdoc                0 non-null      float64\n",
      " 24  majorsector_percent       0 non-null      float64\n",
      " 25  sector1                   18841 non-null  object \n",
      " 26  sector2                   9810 non-null   object \n",
      " 27  sector3                   6672 non-null   object \n",
      " 28  sector4                   4480 non-null   object \n",
      " 29  sector5                   2770 non-null   object \n",
      " 30  sector                    18065 non-null  object \n",
      " 31  mjsector1                 0 non-null      float64\n",
      " 32  mjsector2                 0 non-null      float64\n",
      " 33  mjsector3                 0 non-null      float64\n",
      " 34  mjsector4                 0 non-null      float64\n",
      " 35  mjsector5                 0 non-null      float64\n",
      " 36  mjsector                  18065 non-null  object \n",
      " 37  theme1                    18841 non-null  object \n",
      " 38  theme2                    9883 non-null   object \n",
      " 39  theme3                    7508 non-null   object \n",
      " 40  theme4                    5247 non-null   object \n",
      " 41  theme5                    2935 non-null   object \n",
      " 42  theme                     0 non-null      float64\n",
      " 43  goal                      12188 non-null  object \n",
      " 44  financier                 7199 non-null   object \n",
      " 45  mjtheme1name              0 non-null      float64\n",
      " 46  mjtheme2name              0 non-null      float64\n",
      " 47  mjtheme3name              0 non-null      float64\n",
      " 48  mjtheme4name              0 non-null      float64\n",
      " 49  mjtheme5name              0 non-null      float64\n",
      " 50  location                  4569 non-null   object \n",
      " 51  GeoLocID                  4569 non-null   object \n",
      " 52  GeoLocName                4568 non-null   object \n",
      " 53  Latitude                  4569 non-null   object \n",
      " 54  Longitude                 4569 non-null   object \n",
      " 55  Country                   4451 non-null   object \n",
      " 56  Unnamed: 56               0 non-null      float64\n",
      "dtypes: float64(14), object(43)\n",
      "memory usage: 8.2+ MB\n",
      "None\n"
     ]
    }
   ],
   "source": [
    "print(\"Dataset Info:\")\n",
    "print(df.info())"
   ]
  },
  {
   "cell_type": "code",
   "execution_count": 68,
   "id": "f5bb2649",
   "metadata": {},
   "outputs": [
    {
     "name": "stdout",
     "output_type": "stream",
     "text": [
      "\n",
      "First 5 rows:\n",
      "        id                    regionname  \\\n",
      "0  P151169  Middle East and North Africa   \n",
      "1  P154943         East Asia and Pacific   \n",
      "2  P161382         East Asia and Pacific   \n",
      "3  P163922         East Asia and Pacific   \n",
      "4  P169279         East Asia and Pacific   \n",
      "\n",
      "                                         countryname prodline  \\\n",
      "0              Kingdom of Morocco;Kingdom of Morocco       PE   \n",
      "1                  Kingdom of Tonga;Kingdom of Tonga       PE   \n",
      "2  Republic of the Marshall Islands;Republic of t...       PE   \n",
      "3  Federated States of Micronesia;Federated State...       PE   \n",
      "4                                        Samoa;Samoa       PE   \n",
      "\n",
      "                   lendinginstr lendinginstrtype envassesmentcategorycode  \\\n",
      "0  Investment Project Financing               IN                        B   \n",
      "1  Investment Project Financing               IN                        C   \n",
      "2  Investment Project Financing               IN                        B   \n",
      "3  Investment Project Financing               IN                        B   \n",
      "4  Investment Project Financing               IN                      NaN   \n",
      "\n",
      "  supplementprojectflg productlinetype projectstatusdisplay  ... mjtheme3name  \\\n",
      "0                    N               L               Active  ...          NaN   \n",
      "1                    N               L               Active  ...          NaN   \n",
      "2                    N               L               Active  ...          NaN   \n",
      "3                    N               L               Active  ...          NaN   \n",
      "4                    Y               L               Active  ...          NaN   \n",
      "\n",
      "  mjtheme4name mjtheme5name location GeoLocID GeoLocName Latitude Longitude  \\\n",
      "0          NaN          NaN      NaN      NaN        NaN      NaN       NaN   \n",
      "1          NaN          NaN      NaN      NaN        NaN      NaN       NaN   \n",
      "2          NaN          NaN      NaN      NaN        NaN      NaN       NaN   \n",
      "3          NaN          NaN      NaN      NaN        NaN      NaN       NaN   \n",
      "4          NaN          NaN      NaN      NaN        NaN      NaN       NaN   \n",
      "\n",
      "  Country Unnamed: 56  \n",
      "0     NaN         NaN  \n",
      "1     NaN         NaN  \n",
      "2     NaN         NaN  \n",
      "3     NaN         NaN  \n",
      "4     NaN         NaN  \n",
      "\n",
      "[5 rows x 57 columns]\n"
     ]
    }
   ],
   "source": [
    "print(\"\\nFirst 5 rows:\")\n",
    "print(df.head())"
   ]
  },
  {
   "cell_type": "code",
   "execution_count": 69,
   "id": "40aa0c89",
   "metadata": {},
   "outputs": [
    {
     "name": "stdout",
     "output_type": "stream",
     "text": [
      "\n",
      "Missing values per column:\n",
      "majorsector_percent     18841\n",
      "projectdoc              18841\n",
      "mjtheme3name            18841\n",
      "mjtheme2name            18841\n",
      "mjsector5               18841\n",
      "mjsector3               18841\n",
      "mjsector4               18841\n",
      "mjsector2               18841\n",
      "mjsector1               18841\n",
      "theme                   18841\n",
      "dtype: int64\n"
     ]
    }
   ],
   "source": [
    "print(\"\\nMissing values per column:\")\n",
    "print(df.isnull().sum().sort_values(ascending=False).head(10))"
   ]
  },
  {
   "cell_type": "code",
   "execution_count": 70,
   "id": "018846d7",
   "metadata": {},
   "outputs": [
    {
     "data": {
      "text/plain": [
       "Index(['id', 'regionname', 'countryname', 'prodline', 'lendinginstr',\n",
       "       'lendinginstrtype', 'envassesmentcategorycode', 'supplementprojectflg',\n",
       "       'productlinetype', 'projectstatusdisplay', 'status', 'project_name',\n",
       "       'boardapprovaldate', 'board_approval_month', 'closingdate',\n",
       "       'lendprojectcost', 'ibrdcommamt', 'idacommamt', 'totalamt', 'grantamt',\n",
       "       'borrower', 'impagency', 'url', 'projectdoc ', 'majorsector_percent ',\n",
       "       'sector1', 'sector2', 'sector3', 'sector4', 'sector5', 'sector',\n",
       "       'mjsector1', 'mjsector2', 'mjsector3', 'mjsector4', 'mjsector5',\n",
       "       'mjsector', 'theme1', 'theme2', 'theme3', 'theme4', 'theme5', 'theme ',\n",
       "       'goal', 'financier', 'mjtheme1name', 'mjtheme2name', 'mjtheme3name',\n",
       "       'mjtheme4name', 'mjtheme5name', 'location', 'GeoLocID', 'GeoLocName',\n",
       "       'Latitude', 'Longitude', 'Country', 'Unnamed: 56'],\n",
       "      dtype='object')"
      ]
     },
     "execution_count": 70,
     "metadata": {},
     "output_type": "execute_result"
    }
   ],
   "source": [
    "# Displaying the columns\n",
    "df.columns"
   ]
  },
  {
   "cell_type": "markdown",
   "id": "fa978915",
   "metadata": {},
   "source": [
    "## Data Cleaning"
   ]
  },
  {
   "cell_type": "code",
   "execution_count": 71,
   "id": "15b90890",
   "metadata": {},
   "outputs": [],
   "source": [
    "# Convert date columns to datetime\n",
    "df['boardapprovaldate'] = pd.to_datetime(df['boardapprovaldate'], errors='coerce')\n",
    "df['closingdate'] = pd.to_datetime(df['closingdate'], errors='coerce')"
   ]
  },
  {
   "cell_type": "code",
   "execution_count": 72,
   "id": "91fd5192",
   "metadata": {},
   "outputs": [],
   "source": [
    "# Convert numeric columns (remove commas and coerce errors)\n",
    "def to_numeric(col):\n",
    "    return pd.to_numeric(df[col].str.replace(',', '').replace('', np.nan), errors='coerce')"
   ]
  },
  {
   "cell_type": "code",
   "execution_count": 73,
   "id": "0cef4314",
   "metadata": {},
   "outputs": [],
   "source": [
    "for col in ['lendprojectcost', 'ibrdcommamt', 'idacommamt', 'totalamt', 'grantamt']:\n",
    "    df[col] = to_numeric(col)\n"
   ]
  }
 ],
 "metadata": {
  "kernelspec": {
   "display_name": "venv",
   "language": "python",
   "name": "python3"
  },
  "language_info": {
   "codemirror_mode": {
    "name": "ipython",
    "version": 3
   },
   "file_extension": ".py",
   "mimetype": "text/x-python",
   "name": "python",
   "nbconvert_exporter": "python",
   "pygments_lexer": "ipython3",
   "version": "3.10.11"
  }
 },
 "nbformat": 4,
 "nbformat_minor": 5
}
